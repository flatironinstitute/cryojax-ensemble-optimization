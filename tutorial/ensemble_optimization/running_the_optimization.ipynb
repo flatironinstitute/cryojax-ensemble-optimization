{
 "cells": [
  {
   "cell_type": "markdown",
   "id": "93b2b35d",
   "metadata": {},
   "source": [
    "# Tutorial\n",
    "\n",
    "In this file we show how you can easily build a custom pipeline to run our ensemble optimization method"
   ]
  },
  {
   "cell_type": "code",
   "execution_count": null,
   "id": "290f3135",
   "metadata": {},
   "outputs": [],
   "source": [
    "import os\n",
    "\n",
    "import jax\n",
    "import jax.numpy as jnp\n",
    "import matplotlib.pyplot as plt\n",
    "import mdtraj\n",
    "import yaml\n",
    "from cryojax.data import (\n",
    "    RelionParticleParameterDataset,\n",
    "    RelionParticleStackDataset,\n",
    ")\n",
    "\n",
    "import cryojax_ensemble_optimization as cxsopt"
   ]
  },
  {
   "cell_type": "code",
   "execution_count": null,
   "id": "2a8ff529",
   "metadata": {},
   "outputs": [],
   "source": [
    "with open(\"./ensemble_optimization_config.yaml\", \"r\") as f:\n",
    "    config_file = yaml.safe_load(f)\n",
    "    config = dict(cxsopt.internal.cryojaxERConfig(**config_file).model_dump())\n",
    "\n",
    "# create output directory if it does not exist\n",
    "os.makedirs(config[\"path_to_output\"], exist_ok=True)"
   ]
  },
  {
   "cell_type": "code",
   "execution_count": null,
   "id": "8d0dc227",
   "metadata": {},
   "outputs": [],
   "source": [
    "config"
   ]
  },
  {
   "cell_type": "markdown",
   "id": "520dbafa",
   "metadata": {},
   "source": [
    "# Load the atomic models and dataset"
   ]
  },
  {
   "cell_type": "markdown",
   "id": "aa0e2bfc",
   "metadata": {},
   "source": [
    "* The atomic models contain the atomic positions and the scattering factors used to simulate images\n",
    "* The reference structure is used for alignment (it should be aligned with the pose information of the images!!)\n",
    "* The restrain atom list is used for selecting which atoms get optimized, and which atoms are used in the biasing force of the steered MD"
   ]
  },
  {
   "cell_type": "code",
   "execution_count": null,
   "id": "3bd8383e",
   "metadata": {},
   "outputs": [],
   "source": [
    "atomic_models = cxsopt.io.read_atomic_models(config[\"path_to_atomic_models\"], loads_b_factors=True)\n",
    "\n",
    "ref_structure = mdtraj.load(config[\"path_to_reference_model\"])\n",
    "# center the reference structure\n",
    "ref_structure = ref_structure.center_coordinates()\n",
    "restrain_atom_list = ref_structure.topology.select(config[\"atom_selection\"])"
   ]
  },
  {
   "cell_type": "markdown",
   "id": "9a169158",
   "metadata": {},
   "source": [
    "Parse the atomic models, and filter the scattering parameters"
   ]
  },
  {
   "cell_type": "code",
   "execution_count": null,
   "id": "d48097b0",
   "metadata": {},
   "outputs": [],
   "source": [
    "walkers = jnp.array([model[\"atom_positions\"] for model in atomic_models.values()])\n",
    "gaussian_variances = jnp.array(\n",
    "    [model[\"gaussian_variances\"] for model in atomic_models.values()]\n",
    ")[:, restrain_atom_list]\n",
    "gaussian_amplitudes = jnp.array(\n",
    "    [model[\"gaussian_amplitudes\"] for model in atomic_models.values()]\n",
    ")[:, restrain_atom_list]\n",
    "\n",
    "walkers.shape, gaussian_variances.shape, gaussian_amplitudes.shape"
   ]
  },
  {
   "cell_type": "markdown",
   "id": "792aa9d8",
   "metadata": {},
   "source": [
    "Load the cryo-EM data. The dataloader is used to load by random batches"
   ]
  },
  {
   "cell_type": "code",
   "execution_count": null,
   "id": "e6f92177",
   "metadata": {},
   "outputs": [],
   "source": [
    "stack_dataset = RelionParticleStackDataset(\n",
    "    RelionParticleParameterDataset(\n",
    "        path_to_starfile=config[\"path_to_starfile\"],\n",
    "        path_to_relion_project=config[\"path_to_relion_project\"],\n",
    "    )\n",
    ")\n",
    "\n",
    "key = jax.random.PRNGKey(config[\"rng_seed\"])\n",
    "key_data, key_pipeline = jax.random.split(key)\n",
    "\n",
    "dataloader = cxsopt.data.create_dataloader(\n",
    "    stack_dataset,\n",
    "    batch_size=config[\"likelihood_optimizer_params\"][\"batch_size\"],\n",
    "    shuffle=True,\n",
    "    drop_last=False,\n",
    "    jax_prng_key=key_data,\n",
    "    per_particle_args=None,\n",
    ")"
   ]
  },
  {
   "cell_type": "markdown",
   "id": "b4a162a1",
   "metadata": {},
   "source": [
    "The last argument can be used to pass additional arguments for each particle that cannot be found in the starfile. For example, noise parameters. These parameters can be useful to define custom log likelihood functions, as we show below."
   ]
  },
  {
   "cell_type": "markdown",
   "id": "95909341",
   "metadata": {},
   "source": [
    "# Construct the objects necessary for the ensemble optimization"
   ]
  },
  {
   "cell_type": "markdown",
   "id": "9a5be47d",
   "metadata": {},
   "source": [
    "## The prior projector\n",
    "\n",
    "This is simply a list of single projector, you should define one projector for each walker!. The `base_state_file_path` argument is used to save the current state of the simulation at each iteration of the ensemble optimization. This should be different for each projector! This is useful for continuing previous iterations of the method."
   ]
  },
  {
   "cell_type": "code",
   "execution_count": null,
   "id": "8a330414",
   "metadata": {},
   "outputs": [],
   "source": [
    "projector_list = []\n",
    "\n",
    "for i in range(2):\n",
    "    projector_list.append(\n",
    "        cxsopt.ensemble_optimization.SteeredMDSimulator(\n",
    "            path_to_initial_pdb=config[\"path_to_atomic_models\"][i],\n",
    "            bias_constant_in_kj_per_mol_angs=config[\"projector_params\"][\n",
    "                \"bias_constant_in_units\"\n",
    "            ],\n",
    "            n_steps=config[\"projector_params\"][\"n_steps\"],\n",
    "            restrain_atom_list=restrain_atom_list,\n",
    "            parameters_for_md={\n",
    "                \"platform\": config[\"projector_params\"][\"platform\"],\n",
    "                \"properties\": config[\"projector_params\"][\"platform_properties\"],\n",
    "            },\n",
    "            base_state_file_path=os.path.join(\n",
    "                config[\"path_to_output\"], f\"states_proj_{i}/state_\"\n",
    "            ),\n",
    "            make_simulation_fn=None,  # see below!\n",
    "        )\n",
    "    )\n",
    "md_projector = cxsopt.ensemble_optimization.EnsembleSteeredMDSimulator(projector_list)"
   ]
  },
  {
   "cell_type": "markdown",
   "id": "ec8e95b8",
   "metadata": {},
   "source": [
    "The way the steered MD simulations can be easily personalized. You can provide your own `make_simulation_fn` which should take an openmm topology object (coming from the `path_to_initial_pdb`) and a dictionary (`parameters_for_md`). For example, the default function is defined as\n",
    "\n",
    "```python\n",
    "\n",
    "import openmm\n",
    "import openmm.app as openmm_app\n",
    "import openmm.unit as openmm_unit\n",
    "\n",
    "def _create_forcefield(parameters_for_md: dict) -> openmm_app.ForceField:\n",
    "    return openmm_app.ForceField(\n",
    "        parameters_for_md[\"forcefield\"], parameters_for_md[\"water_model\"]\n",
    "    )\n",
    "\n",
    "\n",
    "def _create_integrator(parameters_for_md: dict) -> openmm.Integrator:\n",
    "    return openmm.LangevinIntegrator(\n",
    "        parameters_for_md[\"temperature\"],\n",
    "        parameters_for_md[\"friction\"],\n",
    "        parameters_for_md[\"timestep\"],\n",
    "    )\n",
    "\n",
    "\n",
    "def _create_system(\n",
    "    parameters_for_md: dict,\n",
    "    forcefield: openmm_app.ForceField,\n",
    "    topology: openmm_app.Topology,\n",
    ") -> openmm.System:\n",
    "    system = forcefield.createSystem(\n",
    "        topology,\n",
    "        nonbondedMethod=parameters_for_md[\"nonbondedMethod\"],\n",
    "        nonbondedCutoff=parameters_for_md[\"nonbondedCutoff\"],\n",
    "        constraints=parameters_for_md[\"constraints\"],\n",
    "    )\n",
    "\n",
    "    return system\n",
    "\n",
    "\n",
    "def _create_platform(parameters_for_md: dict) -> openmm.Platform:\n",
    "    return openmm.Platform.getPlatformByName(parameters_for_md[\"platform\"])\n",
    "\n",
    "def _default_make_sim_fn(parameters_for_md: dict, topology) -> openmm_app.Simulation:\n",
    "    forcefield = _create_forcefield(parameters_for_md)\n",
    "    integrator = _create_integrator(parameters_for_md)\n",
    "    platform = _create_platform(parameters_for_md)\n",
    "    system = _create_system(parameters_for_md, forcefield, topology)\n",
    "\n",
    "    simulation = openmm_app.Simulation(\n",
    "        topology,\n",
    "        system,\n",
    "        integrator,\n",
    "        platform,\n",
    "        parameters_for_md[\"properties\"],\n",
    "    )\n",
    "\n",
    "    return simulation\n",
    "```\n",
    "\n",
    "In the default case, the `parameters_for_md` argument is completed with these default parameters\n",
    "\n",
    "```python\n",
    "DEFAULT_MD_PARAMS = {\n",
    "    \"forcefield\": \"amber14-all.xml\",\n",
    "    \"water_model\": \"amber14/tip3p.xml\",\n",
    "    \"nonbondedMethod\": openmm_app.PME,\n",
    "    \"nonbondedCutoff\": 1.0 * openmm_unit.nanometer,\n",
    "    \"constraints\": openmm_app.HBonds,\n",
    "    \"temperature\": 300.0 * openmm_unit.kelvin,\n",
    "    \"friction\": 1.0 / openmm_unit.picosecond,\n",
    "    \"timestep\": 0.002 * openmm_unit.picoseconds,\n",
    "    \"platform\": \"CPU\",\n",
    "    \"properties\": {\"Threads\": \"1\"},\n",
    "}\n",
    "\n",
    "```"
   ]
  },
  {
   "cell_type": "markdown",
   "id": "61ca1d65",
   "metadata": {},
   "source": [
    "## The likelihood optimizer"
   ]
  },
  {
   "cell_type": "code",
   "execution_count": null,
   "id": "66623a17",
   "metadata": {},
   "outputs": [],
   "source": [
    "likelihood_optimizer = cxsopt.ensemble_optimization.IterativeEnsembleLikelihoodOptimizer(\n",
    "    step_size=config[\"likelihood_optimizer_params\"][\"step_size\"],\n",
    "    n_steps=config[\"likelihood_optimizer_params\"][\"n_steps\"],\n",
    "    gaussian_variances=gaussian_variances[:, restrain_atom_list],\n",
    "    gaussian_amplitudes=gaussian_amplitudes[:, restrain_atom_list],\n",
    "    image_to_walker_log_likelihood_fn=\"iso_gaussian_var_marg\",\n",
    ")"
   ]
  },
  {
   "cell_type": "markdown",
   "id": "0ec210be",
   "metadata": {},
   "source": [
    "The likelihood optimizer can also be personalized. The `image_to_walker_log_likelihood_fn` can be also passed as a callable with structure\n",
    "\n",
    "```python\n",
    "def my_loglikelihood_fn(\n",
    "    computed_image: Image,\n",
    "    observed_image: Image,\n",
    "    per_particle_args: Any\n",
    "):\n",
    "    log_likelihood = ...\n",
    "    return log_likelihood\n",
    "```\n",
    "\n",
    "This functions needs to be jit compilable with equinox. Otherwise this will not work. The per_particle_args can be passed as pytree with the same batch dimension as the stack when defining the dataloader (see the above). The arguments for each image should match their order in the starfile."
   ]
  },
  {
   "cell_type": "markdown",
   "id": "ac5f2206",
   "metadata": {},
   "source": [
    "## The ensemble refinement pipeline"
   ]
  },
  {
   "cell_type": "code",
   "execution_count": null,
   "id": "abd6b9b5",
   "metadata": {},
   "outputs": [],
   "source": [
    "ensemble_refinement_pipeline = cxsopt.ensemble_optimization.EnsembleOptimizationPipeline(\n",
    "    prior_projector=md_projector,\n",
    "    likelihood_optimizer=likelihood_optimizer,\n",
    "    n_steps=config[\"n_steps\"],\n",
    "    ref_structure_for_alignment=ref_structure,\n",
    "    atom_indices_for_opt=restrain_atom_list,\n",
    "    runs_postprocessing=True,\n",
    ")"
   ]
  },
  {
   "cell_type": "markdown",
   "id": "9790129d",
   "metadata": {},
   "source": [
    "Now simply define the initial walkers and weights, and run!\n",
    "\n",
    "If restarting, `the initial_state_for_projector` argument should be a list of paths to the initial states."
   ]
  },
  {
   "cell_type": "code",
   "execution_count": null,
   "id": "fa73a914",
   "metadata": {},
   "outputs": [],
   "source": [
    "init_walkers = jnp.array(walkers)\n",
    "init_weights = jnp.array(config[\"likelihood_optimizer_params\"][\"init_weights\"])\n",
    "\n",
    "walkers, weights = ensemble_refinement_pipeline.run(\n",
    "    key=key_pipeline,\n",
    "    initial_walkers=init_walkers,\n",
    "    initial_weights=init_weights,\n",
    "    dataloader=dataloader,\n",
    "    output_directory=config[\"path_to_output\"],\n",
    "    initial_state_for_projector=None,\n",
    ")"
   ]
  },
  {
   "cell_type": "code",
   "execution_count": null,
   "id": "bc58f90b",
   "metadata": {},
   "outputs": [],
   "source": [
    "# These should be around 0.7 and 0.3\n",
    "\n",
    "print(weights)"
   ]
  },
  {
   "cell_type": "code",
   "execution_count": null,
   "id": "77fb77ea",
   "metadata": {},
   "outputs": [],
   "source": [
    "# The trajectories can be found in the output directory\n",
    "\n",
    "traj0 = mdtraj.load(\n",
    "    os.path.join(config[\"path_to_output\"], \"traj_walker_0.xtc\"),\n",
    "    top=config[\"path_to_reference_model\"],\n",
    ")\n",
    "\n",
    "traj1 = mdtraj.load(\n",
    "    os.path.join(config[\"path_to_output\"], \"traj_walker_1.xtc\"),\n",
    "    top=config[\"path_to_reference_model\"],\n",
    ")\n",
    "\n",
    "# Let's also load the true members of the ensemble\n",
    "\n",
    "true_ensemble_structure0 = mdtraj.load(\"../data_generation/atomic_models/ala_model_0.pdb\")\n",
    "\n",
    "true_ensemble_structure1 = mdtraj.load(\"../data_generation/atomic_models/ala_model_1.pdb\")\n",
    "\n",
    "atom_indices = true_ensemble_structure0.topology.select(\"not element H\")\n",
    "# now comute the RMSD of each trajectory to the true ensemble members\n",
    "rmsd00 = mdtraj.rmsd(traj0, true_ensemble_structure0, 0)\n",
    "rmsd01 = mdtraj.rmsd(traj0, true_ensemble_structure1, 0)\n",
    "\n",
    "rmsd10 = mdtraj.rmsd(traj1, true_ensemble_structure0, 0)\n",
    "rmsd11 = mdtraj.rmsd(traj1, true_ensemble_structure1, 0)"
   ]
  },
  {
   "cell_type": "code",
   "execution_count": null,
   "id": "e41bd970",
   "metadata": {},
   "outputs": [],
   "source": [
    "fig, ax = plt.subplots(1, 2, figsize=(12, 6))\n",
    "\n",
    "ax[0].plot(rmsd00, label=\"Walker 0\")\n",
    "ax[0].plot(rmsd10, label=\"Walker 1\")\n",
    "ax[0].set_title(\"RMSD to true ensemble member 0\")\n",
    "ax[0].set_xlabel(\"Frame\")\n",
    "ax[0].set_ylabel(\"RMSD (nm)\")\n",
    "ax[0].legend()\n",
    "\n",
    "ax[1].plot(rmsd01, label=\"Walker 0\")\n",
    "ax[1].plot(rmsd11, label=\"Walker 1\")\n",
    "ax[1].set_title(\"RMSD to true ensemble member 1\")\n",
    "ax[1].set_xlabel(\"Frame\")\n",
    "ax[1].set_ylabel(\"RMSD (nm)\")\n",
    "ax[1].legend()"
   ]
  },
  {
   "cell_type": "markdown",
   "id": "c9b98831",
   "metadata": {},
   "source": [
    "# Running from the command line\n",
    "\n",
    "You could also simply run `cryojax_ensemble_optimization run_ensemble_optimization --config ensemble_optimization_config.yaml --nprocs <n_processors>`\n",
    "\n",
    "The `--nprocs` argument can be used to overwrite how many threads OpenMM uses. This will probably be deprecated in the near future.\n",
    "\n",
    "Although in this case it is not possible to define custom simulations and log likelihood functions."
   ]
  }
 ],
 "metadata": {
  "kernelspec": {
   "display_name": "cryomd-env",
   "language": "python",
   "name": "python3"
  },
  "language_info": {
   "codemirror_mode": {
    "name": "ipython",
    "version": 3
   },
   "file_extension": ".py",
   "mimetype": "text/x-python",
   "name": "python",
   "nbconvert_exporter": "python",
   "pygments_lexer": "ipython3",
   "version": "3.11.10"
  }
 },
 "nbformat": 4,
 "nbformat_minor": 5
}
