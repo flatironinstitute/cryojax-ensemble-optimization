{
 "cells": [
  {
   "cell_type": "code",
   "execution_count": null,
   "metadata": {},
   "outputs": [],
   "source": [
    "import matplotlib.pyplot as plt\n",
    "import numpy as np\n",
    "import yaml\n",
    "from cryojax.data import RelionParticleParameterDataset, RelionParticleStackDataset\n",
    "from cryojax.image import irfftn, rfftn\n",
    "from cryojax.image.operators import LowpassFilter\n",
    "from cryojax_ensemble_refinement.internal import DatasetGeneratorConfig"
   ]
  },
  {
   "cell_type": "markdown",
   "metadata": {},
   "source": [
    "# Let's load the config file"
   ]
  },
  {
   "cell_type": "code",
   "execution_count": null,
   "metadata": {},
   "outputs": [],
   "source": [
    "with open(\"./config_data_geneation.yaml\", \"r\") as f:\n",
    "    config_json = yaml.safe_load(f)\n",
    "    config = dict(DatasetGeneratorConfig(**config_json).model_dump())"
   ]
  },
  {
   "cell_type": "code",
   "execution_count": null,
   "metadata": {},
   "outputs": [],
   "source": [
    "config"
   ]
  },
  {
   "cell_type": "markdown",
   "metadata": {},
   "source": [
    "The image generation can be run from the command line as\n",
    "\n",
    "`cryojax_er generate_data --config config_data_generation.yaml`"
   ]
  },
  {
   "cell_type": "markdown",
   "metadata": {},
   "source": [
    "# Visualize the images!"
   ]
  },
  {
   "cell_type": "code",
   "execution_count": null,
   "metadata": {},
   "outputs": [],
   "source": [
    "stack_dataset = RelionParticleStackDataset(\n",
    "    RelionParticleParameterDataset(\n",
    "        path_to_starfile=config[\"path_to_starfile\"],\n",
    "        path_to_relion_project=config[\"path_to_relion_project\"],\n",
    "        loads_envelope=False,\n",
    "    )\n",
    ")"
   ]
  },
  {
   "cell_type": "code",
   "execution_count": null,
   "metadata": {},
   "outputs": [],
   "source": [
    "lowpass_filter = LowpassFilter(\n",
    "    stack_dataset[0].parameters.instrument_config.frequency_grid_in_pixels,\n",
    "    frequency_cutoff_fraction=0.7,\n",
    ")"
   ]
  },
  {
   "cell_type": "code",
   "execution_count": null,
   "metadata": {},
   "outputs": [],
   "source": [
    "fig, ax = plt.subplots(2, 2, figsize=(10, 10))\n",
    "\n",
    "images = stack_dataset[0:4].images\n",
    "images = irfftn(lowpass_filter(rfftn(images)))\n",
    "\n",
    "for i in range(4):\n",
    "    ax.flatten()[i].imshow(images[i], cmap=\"gray\")"
   ]
  },
  {
   "cell_type": "markdown",
   "metadata": {},
   "source": [
    "## Metadata"
   ]
  },
  {
   "cell_type": "markdown",
   "metadata": {},
   "source": [
    "Information about the ensemble and other parameters is saved to a metadata file"
   ]
  },
  {
   "cell_type": "code",
   "execution_count": null,
   "metadata": {},
   "outputs": [],
   "source": [
    "metadata = np.load(\"tutorial_data/metadata.npz\")\n",
    "\n",
    "metadata.files"
   ]
  },
  {
   "cell_type": "code",
   "execution_count": null,
   "metadata": {},
   "outputs": [],
   "source": [
    "metadata[\"ensemble_indices_per_image\"]"
   ]
  },
  {
   "cell_type": "code",
   "execution_count": null,
   "metadata": {},
   "outputs": [],
   "source": [
    "weight_0 = np.isclose(metadata[\"ensemble_indices_per_image\"], 0).mean()\n",
    "weight_1 = np.isclose(metadata[\"ensemble_indices_per_image\"], 1).mean()\n",
    "\n",
    "weight_0, weight_1"
   ]
  }
 ],
 "metadata": {
  "kernelspec": {
   "display_name": "cryomd-env",
   "language": "python",
   "name": "python3"
  },
  "language_info": {
   "codemirror_mode": {
    "name": "ipython",
    "version": 3
   },
   "file_extension": ".py",
   "mimetype": "text/x-python",
   "name": "python",
   "nbconvert_exporter": "python",
   "pygments_lexer": "ipython3",
   "version": "3.11.10"
  }
 },
 "nbformat": 4,
 "nbformat_minor": 2
}
